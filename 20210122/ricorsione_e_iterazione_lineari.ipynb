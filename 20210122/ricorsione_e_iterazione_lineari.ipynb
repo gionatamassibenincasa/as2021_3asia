{
 "cells": [
  {
   "cell_type": "markdown",
   "metadata": {},
   "source": [
    "# Ricorsione e iterazione lineari\n",
    "\n",
    "## Il fattoriale\n",
    "\n",
    "Iniziamo considerando la funzione fattoriale, definita da\n",
    "\n",
    "$n \\cdot (n-1) \\cdot (n-2) \\cdots 3 \\cdot 2 \\cdot 1$\n",
    "\n",
    "Esistono molti modi per calcolare il fattoriale. Un modo è utilizzare l'osservazione che $n!$ è uguale a $n \\cdot (n-1)!$ per qualsiasi numero intero positivo $n$:\n",
    "\n",
    "$$n! = n\\cdot \\left[ (n-1) \\cdot (n-2) \\cdots 3 \\cdot 2 \\cdot 1 \\right] = n \\cdot (n-1)!$$\n",
    "\n",
    "Pertanto, possiamo calcolare $n!$ calcolando $(n-1)!$ e moltiplicando il risultato di $n$. Se aggiungiamo la clausola che $1!$ è uguale a $1$, questa osservazione si traduce direttamente nella funzione:\n",
    "\n",
    "**Definizione della funzione fattoriale**\n",
    "\n",
    "```cpp\n",
    "unsigned long int fattoriale (unsigned int n) {\n",
    "\treturn n == 1 \n",
    "\t\t\t? 1\n",
    "\t\t\t: n * fattoriale (n - 1);\n",
    "}\n",
    "```"
   ]
  },
  {
   "cell_type": "code",
   "execution_count": 4,
   "metadata": {},
   "outputs": [
    {
     "name": "stderr",
     "output_type": "stream",
     "text": [
      "\u001b[1minput_line_10:2:47: \u001b[0m\u001b[0;1;31merror: \u001b[0m\u001b[1mfunction definition is not allowed here\u001b[0m\n",
      " unsigned long int fattoriale(unsigned int n) {\n",
      "\u001b[0;1;32m                                              ^\n",
      "\u001b[0m"
     ]
    },
    {
     "ename": "Interpreter Error",
     "evalue": "",
     "output_type": "error",
     "traceback": [
      "Interpreter Error: "
     ]
    }
   ],
   "source": [
    "unsigned long int fattoriale(unsigned int n) {\n",
    "\treturn (n == 1)\n",
    "\t\t\t? 1\n",
    "\t\t\t: n * fattoriale (n - 1);\n",
    "}"
   ]
  },
  {
   "cell_type": "code",
   "execution_count": 3,
   "metadata": {},
   "outputs": [
    {
     "name": "stderr",
     "output_type": "stream",
     "text": [
      "\u001b[1minput_line_9:2:2: \u001b[0m\u001b[0;1;31merror: \u001b[0m\u001b[1muse of undeclared identifier 'fattoriale'\u001b[0m\n",
      " fattoriale(20)\n",
      "\u001b[0;1;32m ^\n",
      "\u001b[0m"
     ]
    },
    {
     "ename": "Interpreter Error",
     "evalue": "",
     "output_type": "error",
     "traceback": [
      "Interpreter Error: "
     ]
    }
   ],
   "source": [
    "fattoriale(20)"
   ]
  },
  {
   "cell_type": "code",
   "execution_count": null,
   "metadata": {},
   "outputs": [],
   "source": [
    "fattoriale(5)"
   ]
  },
  {
   "cell_type": "markdown",
   "metadata": {},
   "source": [
    "Possiamo assumere un diverso punto di vista per il calcolo del fattoriale.\n",
    "Potremmo descrivere una regola per il calcolo di $n!$ \n",
    "specificando che prima moltiplichiamo 1 per 2, poi moltiplichiamo il risultato per 3, poi per 4 e così via fino a raggiungere $n$.\n",
    "Più formalmente, manteniamo un prodotto parziale, insieme a un __contatore__\n",
    "che conta da 1 a $n$.\n",
    "Possiamo descrivere il calcolo dicendo che il contatore e il prodotto cambiano simultaneamente da un passaggio all'altro in base alla regola\n",
    "\n",
    "$$\n",
    "\\begin{eqnarray*}\n",
    "  \\mathrm{prodotto}  & \\leftarrow & \\mathrm{contatore} \\cdot \\mathrm{prodotto} \\\\\n",
    "  \\mathrm{contatore} & \\leftarrow & \\mathrm{contatore} + 1\n",
    "\\end{eqnarray*}\n",
    "$$\n",
    "\n",
    "e che $n!$ è il valore del prodotto quando il contatore supera $n$.\n",
    "\n",
    "Ancora una volta, possiamo riscrivere la nostra descrizione come funzione per calcolare la dichiarazione della funzione interna:\n",
    "\n",
    "**Definizione della funzione fattoriale come processo iterativo lineare**\n",
    "\n",
    "```cpp\n",
    "unsigned long fatt_iter(unsigned long prodotto, unsigned int contatore, unsigned int n)\n",
    "{\n",
    "    return (contatore > n) ?\n",
    "        prodotto :\n",
    "        fatt_iter(prodotto * contatore, contatore + 1, n);       \n",
    "}\n",
    "\n",
    "unsigned long fatt(unsigned int n) {\n",
    "    return fatt_iter(1, 1, n);\n",
    "}\n",
    "```\n"
   ]
  },
  {
   "cell_type": "code",
   "execution_count": null,
   "metadata": {},
   "outputs": [],
   "source": [
    "unsigned long fatt_iter(unsigned long prodotto, unsigned int contatore, unsigned int n)\n",
    "{\n",
    "    return (contatore > n) ?\n",
    "        prodotto :\n",
    "        fatt_iter(prodotto * contatore, contatore + 1, n);       \n",
    "}"
   ]
  },
  {
   "cell_type": "code",
   "execution_count": null,
   "metadata": {},
   "outputs": [],
   "source": [
    "unsigned long fatt(unsigned int n) {\n",
    "    return fatt_iter(1, 1, n);\n",
    "}"
   ]
  },
  {
   "cell_type": "code",
   "execution_count": null,
   "metadata": {},
   "outputs": [],
   "source": [
    "fatt(5)"
   ]
  },
  {
   "cell_type": "code",
   "execution_count": null,
   "metadata": {},
   "outputs": [],
   "source": [
    "fatt(20)"
   ]
  }
 ],
 "metadata": {
  "kernelspec": {
   "display_name": "C++17",
   "language": "C++17",
   "name": "xcpp17"
  },
  "language_info": {
   "codemirror_mode": "text/x-c++src",
   "file_extension": ".cpp",
   "mimetype": "text/x-c++src",
   "name": "c++",
   "version": "17"
  }
 },
 "nbformat": 4,
 "nbformat_minor": 4
}
